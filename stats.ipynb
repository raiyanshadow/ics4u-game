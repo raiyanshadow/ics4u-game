{
 "cells": [
  {
   "cell_type": "code",
   "execution_count": 18,
   "metadata": {},
   "outputs": [
    {
     "data": {
      "text/html": [
       "<div>\n",
       "<style scoped>\n",
       "    .dataframe tbody tr th:only-of-type {\n",
       "        vertical-align: middle;\n",
       "    }\n",
       "\n",
       "    .dataframe tbody tr th {\n",
       "        vertical-align: top;\n",
       "    }\n",
       "\n",
       "    .dataframe thead th {\n",
       "        text-align: right;\n",
       "    }\n",
       "</style>\n",
       "<table border=\"1\" class=\"dataframe\">\n",
       "  <thead>\n",
       "    <tr style=\"text-align: right;\">\n",
       "      <th></th>\n",
       "      <th>SCORE</th>\n",
       "      <th>ROUNDS</th>\n",
       "      <th>DAMAGE_DEALT</th>\n",
       "      <th>DAMAGE_RECEIVED</th>\n",
       "      <th>HP_REFILLED</th>\n",
       "      <th>SKELETON_A_KILLED</th>\n",
       "      <th>SKELETON_B_KILLED</th>\n",
       "      <th>BAT_KILLED</th>\n",
       "      <th>BRINGER_KILLED</th>\n",
       "      <th>DASHES</th>\n",
       "      <th>JUMPS</th>\n",
       "      <th>TIME_ELAPSED</th>\n",
       "    </tr>\n",
       "  </thead>\n",
       "  <tbody>\n",
       "    <tr>\n",
       "      <th>0</th>\n",
       "      <td>8790</td>\n",
       "      <td>20</td>\n",
       "      <td>96691</td>\n",
       "      <td>1085</td>\n",
       "      <td>840</td>\n",
       "      <td>21</td>\n",
       "      <td>43</td>\n",
       "      <td>20</td>\n",
       "      <td>19</td>\n",
       "      <td>423</td>\n",
       "      <td>323</td>\n",
       "      <td>1993.29</td>\n",
       "    </tr>\n",
       "    <tr>\n",
       "      <th>1</th>\n",
       "      <td>7550</td>\n",
       "      <td>18</td>\n",
       "      <td>87502</td>\n",
       "      <td>750</td>\n",
       "      <td>550</td>\n",
       "      <td>19</td>\n",
       "      <td>35</td>\n",
       "      <td>17</td>\n",
       "      <td>17</td>\n",
       "      <td>553</td>\n",
       "      <td>353</td>\n",
       "      <td>1750.85</td>\n",
       "    </tr>\n",
       "    <tr>\n",
       "      <th>2</th>\n",
       "      <td>6335</td>\n",
       "      <td>15</td>\n",
       "      <td>74395</td>\n",
       "      <td>495</td>\n",
       "      <td>350</td>\n",
       "      <td>16</td>\n",
       "      <td>30</td>\n",
       "      <td>15</td>\n",
       "      <td>13</td>\n",
       "      <td>336</td>\n",
       "      <td>284</td>\n",
       "      <td>1439.23</td>\n",
       "    </tr>\n",
       "    <tr>\n",
       "      <th>3</th>\n",
       "      <td>10035</td>\n",
       "      <td>21</td>\n",
       "      <td>104537</td>\n",
       "      <td>1025</td>\n",
       "      <td>995</td>\n",
       "      <td>25</td>\n",
       "      <td>44</td>\n",
       "      <td>25</td>\n",
       "      <td>21</td>\n",
       "      <td>592</td>\n",
       "      <td>394</td>\n",
       "      <td>2135.82</td>\n",
       "    </tr>\n",
       "    <tr>\n",
       "      <th>4</th>\n",
       "      <td>7300</td>\n",
       "      <td>18</td>\n",
       "      <td>73290</td>\n",
       "      <td>405</td>\n",
       "      <td>335</td>\n",
       "      <td>16</td>\n",
       "      <td>29</td>\n",
       "      <td>15</td>\n",
       "      <td>13</td>\n",
       "      <td>325</td>\n",
       "      <td>264</td>\n",
       "      <td>1703.43</td>\n",
       "    </tr>\n",
       "  </tbody>\n",
       "</table>\n",
       "</div>"
      ],
      "text/plain": [
       "   SCORE  ROUNDS  DAMAGE_DEALT  DAMAGE_RECEIVED  HP_REFILLED  \\\n",
       "0   8790      20         96691             1085          840   \n",
       "1   7550      18         87502              750          550   \n",
       "2   6335      15         74395              495          350   \n",
       "3  10035      21        104537             1025          995   \n",
       "4   7300      18         73290              405          335   \n",
       "\n",
       "   SKELETON_A_KILLED  SKELETON_B_KILLED  BAT_KILLED  BRINGER_KILLED  DASHES  \\\n",
       "0                 21                 43          20              19     423   \n",
       "1                 19                 35          17              17     553   \n",
       "2                 16                 30          15              13     336   \n",
       "3                 25                 44          25              21     592   \n",
       "4                 16                 29          15              13     325   \n",
       "\n",
       "   JUMPS  TIME_ELAPSED  \n",
       "0    323       1993.29  \n",
       "1    353       1750.85  \n",
       "2    284       1439.23  \n",
       "3    394       2135.82  \n",
       "4    264       1703.43  "
      ]
     },
     "execution_count": 18,
     "metadata": {},
     "output_type": "execute_result"
    }
   ],
   "source": [
    "import pandas as pd\n",
    "import matplotlib.pyplot as plt\n",
    "\n",
    "db = pd.read_csv('./stats/stats.csv')\n",
    "pd.set_option('display.max.columns', None)\n",
    "db.head()"
   ]
  },
  {
   "cell_type": "markdown",
   "metadata": {},
   "source": [
    "<h1>DARK KNIGHT STATISTICS</h1>"
   ]
  },
  {
   "cell_type": "markdown",
   "metadata": {},
   "source": [
    "<h4>Statistics included:<br>\n",
    "    <ol>\n",
    "        <li>Total number of enemies killed compared to time elapsed for each game</li>\n",
    "        <li>Average number of jumps and dashes grouped by number of rounds</li>\n",
    "        <li>Correlation of damage received to damage dealt</li>\n",
    "    </ol>\n",
    "</h4>"
   ]
  },
  {
   "cell_type": "markdown",
   "metadata": {},
   "source": [
    "--------------------------\n",
    "1. Total number of enemies killed compared to time elapsed for each game"
   ]
  },
  {
   "cell_type": "code",
   "execution_count": 37,
   "metadata": {},
   "outputs": [
    {
     "data": {
      "image/png": "[encoded data removed]",
      "text/plain": [
       "<Figure size 640x480 with 1 Axes>"
      ]
     },
     "metadata": {},
     "output_type": "display_data"
    },
    {
     "name": "stdout",
     "output_type": "stream",
     "text": [
      "Time elapsed vs. total kills: 0.9476946972613538\n"
     ]
    }
   ],
   "source": [
    "db = db.assign(TOTAL_KILLS = db['SKELETON_A_KILLED'] + db['SKELETON_B_KILLED'] + db['BAT_KILLED'] + db['BRINGER_KILLED'])\n",
    "avg_total_kills = db['TOTAL_KILLS'].groupby(db['ROUNDS']).mean()\n",
    "avg_total_time = db['TIME_ELAPSED'].groupby(db['ROUNDS']).mean()\n",
    "plt.scatter(db['TOTAL_KILLS'], db['TIME_ELAPSED'])\n",
    "plt.xlabel('TOTAL KILLS')\n",
    "plt.ylabel('TIME ELAPSED')\n",
    "plt.title('TOTAL KILLS vs. TIME ELAPSED')\n",
    "plt.show()\n",
    "print(f'Time elapsed vs. total kills: {db.corrwith(db['TIME_ELAPSED'])['TOTAL_KILLS']}')"
   ]
  },
  {
   "cell_type": "markdown",
   "metadata": {},
   "source": [
    "From the above graph and correlation value, it is concluded that there is a positive linear correlation between number of total kills to time elapsed. This means that as more time passes in a game, more enemies will be killed by the player."
   ]
  }
 ],
 "metadata": {
  "kernelspec": {
   "display_name": "Python 3",
   "language": "python",
   "name": "python3"
  },
  "language_info": {
   "codemirror_mode": {
    "name": "ipython",
    "version": 3
   },
   "file_extension": ".py",
   "mimetype": "text/x-python",
   "name": "python",
   "nbconvert_exporter": "python",
   "pygments_lexer": "ipython3",
   "version": "3.12.3"
  }
 },
 "nbformat": 4,
 "nbformat_minor": 2
}
